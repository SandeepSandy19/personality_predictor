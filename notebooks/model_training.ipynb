{
 "cells": [
  {
   "cell_type": "markdown",
   "id": "a2b90167",
   "metadata": {},
   "source": [
    "## Project Overview"
   ]
  },
  {
   "cell_type": "markdown",
   "id": "d4b09447",
   "metadata": {},
   "source": [
    "This notebook builds a classifier to predict personality (Introvert/Extrovert) from behavioral traits.\n",
    "I will load the dataset, preprocess it, perform exploratory analysis, train a machine learning model,\n",
    "and save it for integration into a Streamlit application."
   ]
  },
  {
   "cell_type": "code",
   "execution_count": null,
   "id": "e1d2d13d",
   "metadata": {},
   "outputs": [],
   "source": [
    "# importing all the necessary libraries\n",
    "import os\n",
    "import sys\n",
    "import numpy as np\n",
    "import pandas as pd\n",
    "import matplotlib.pyplot as plt\n",
    "import seaborn as sns\n",
    "\n",
    "from sklearn.preprocessing import LabelEncoder\n",
    "\n",
    "from sklearn.model_selection import train_test_split\n",
    "from sklearn.metrics import accuracy_score, confusion_matrix, classification_report\n",
    "from sklearn.ensemble import RandomForestClassifier\n",
    "\n",
    "import joblib"
   ]
  },
  {
   "cell_type": "code",
   "execution_count": null,
   "id": "2c0a77a7",
   "metadata": {},
   "outputs": [],
   "source": [
    "import xgboost as xgb\n",
    "from xgboost import XGBClassifier"
   ]
  },
  {
   "cell_type": "markdown",
   "id": "af10649a",
   "metadata": {},
   "source": [
    "## Data loading and viewing\n"
   ]
  },
  {
   "cell_type": "code",
   "execution_count": null,
   "id": "9bb01342",
   "metadata": {},
   "outputs": [],
   "source": [
    "# loading dataset into the dataframe in using pandas\n",
    "\n",
    "dataset_path = 'D:\\data_cleaning_using_python\\personality_bot\\dataset\\intro_vs_extro_behave_dataset\\personality_dataset.csv' \n",
    "\n",
    "df = pd.read_csv(dataset_path)\n",
    "# displaying the first 5 rows of the dataset\n",
    "print(\"First 5 rows of the dataset:\")\n",
    "print(df.head(5))"
   ]
  },
  {
   "cell_type": "code",
   "execution_count": null,
   "id": "93835475",
   "metadata": {},
   "outputs": [],
   "source": [
    "# checking all the dataset details\n",
    "print(\"\\nDataset Information:\")\n",
    "print(df.info())\n",
    "print(\"\\nDataset Description:\")\n",
    "print(df.describe())\n",
    "# display cloumns of the dataset and no of columns\n",
    "print(\"\\nDataset Columns:\")\n",
    "print(df.columns)\n",
    "print(\"\\nNumber of Columns in the dataset:\")\n",
    "print(len(df.columns))\n",
    "print(len(df) , \"rows in the dataset\")"
   ]
  },
  {
   "cell_type": "code",
   "execution_count": null,
   "id": "c1abaaca",
   "metadata": {},
   "outputs": [],
   "source": [
    "# finding the null values in the dataset\n",
    "print(\"\\nChecking for null values:\")\n",
    "print(df.isnull().sum())\n"
   ]
  },
  {
   "cell_type": "code",
   "execution_count": null,
   "id": "43c9bb68",
   "metadata": {},
   "outputs": [],
   "source": [
    "#print null value contains rows\n",
    "print(\"\\nRows with null values:\")\n",
    "print(df[df.isnull().any(axis=1)])\n",
    "print(len(df[df.isnull().any(axis=1)]), \"rows with null values found.\")\n"
   ]
  },
  {
   "cell_type": "code",
   "execution_count": null,
   "id": "892396b5",
   "metadata": {},
   "outputs": [],
   "source": [
    "# displaying the null values in each column\n",
    "print(df.isnull().sum())"
   ]
  },
  {
   "cell_type": "markdown",
   "id": "6182c7b6",
   "metadata": {},
   "source": [
    "## Data preprocessing"
   ]
  },
  {
   "cell_type": "code",
   "execution_count": null,
   "id": "3735a11e",
   "metadata": {},
   "outputs": [],
   "source": [
    "#drop all the null valued rows in the dataset\n",
    "df = df.dropna()\n",
    "\n",
    "#print the columns with null valus\n",
    "print(\"\\nAfter dropping null values, the dataset now has:\")\n",
    "print(df.isnull().sum())\n"
   ]
  },
  {
   "cell_type": "code",
   "execution_count": null,
   "id": "ce1d7c7b",
   "metadata": {},
   "outputs": [],
   "source": [
    "# find the unique values in the dataset4    \n",
    "print(\"\\nUnique values in each column:\")\n",
    "for column in df.columns:\n",
    "    unique_values = df[column].unique()\n",
    "    print(f\"{column}: {len(unique_values)} unique values\")\n",
    "    print(unique_values)  # Display first 5 unique values for brevity\n",
    "    print()  # New line for better readability"
   ]
  },
  {
   "cell_type": "code",
   "execution_count": null,
   "id": "fa3812ec",
   "metadata": {},
   "outputs": [],
   "source": [
    "#encode the categorical columns\n",
    "label_encoder = LabelEncoder()\n",
    "yes_no_cols = ['Stage_fear','Drained_after_socializing']\n",
    "for col in yes_no_cols:\n",
    "    df[col] = label_encoder.fit_transform(df[col]) # Convert 'Yes'/'No' to 1/0\n",
    "\n",
    "df.head(5)\n"
   ]
  },
  {
   "cell_type": "code",
   "execution_count": null,
   "id": "453a4176",
   "metadata": {},
   "outputs": [],
   "source": [
    "personality_map = {\n",
    "    \"Introvert\": 0,\n",
    "    \"Extrovert\": 1\n",
    "}\n",
    "# Map personality types to numerical values\n",
    "df['Personality'] = df['Personality'].map(personality_map)\n",
    "\n",
    "df.head(5)"
   ]
  },
  {
   "cell_type": "markdown",
   "id": "fc120f2e",
   "metadata": {},
   "source": [
    "## Data Visualizing"
   ]
  },
  {
   "cell_type": "code",
   "execution_count": null,
   "id": "db24735e",
   "metadata": {},
   "outputs": [],
   "source": [
    "# plot the personality distribution\n",
    "plt.figure(figsize=(8, 6))\n",
    "sns.countplot(x='Personality', data=df, palette='viridis')\n",
    "plt.title('Personality Distribution')\n",
    "plt.xlabel('Personality Type')\n",
    "plt.ylabel('Count')\n",
    "plt.xticks(ticks=[0, 1], labels=['Introvert', 'Extrovert'])\n",
    "plt.show()"
   ]
  },
  {
   "cell_type": "code",
   "execution_count": null,
   "id": "48a7abf3",
   "metadata": {},
   "outputs": [],
   "source": [
    "# histograms for continuous features\n",
    "continuous_features = df.select_dtypes(include=[np.number]).columns.tolist()\n",
    "for feature in continuous_features:\n",
    "    plt.figure(figsize=(10, 6))\n",
    "    sns.histplot(df[feature], kde=True, bins=30, color='blue')\n",
    "    plt.title(f'Histogram of {feature}')\n",
    "    plt.xlabel(feature)\n",
    "    plt.ylabel('Frequency')\n",
    "    plt.show()"
   ]
  },
  {
   "cell_type": "code",
   "execution_count": null,
   "id": "22807e97",
   "metadata": {},
   "outputs": [],
   "source": [
    "# boxplots for feature vs personality\n",
    "for feature in continuous_features:\n",
    "    plt.figure(figsize=(10, 6))\n",
    "    sns.boxplot(x='Personality', y=feature, data=df, palette='viridis')\n",
    "    plt.title(f'Boxplot of {feature} by Personality Type')\n",
    "    plt.xlabel('Personality Type')\n",
    "    plt.ylabel(feature)\n",
    "    plt.xticks(ticks=[0, 1], labels=['Introvert', 'Extrovert'])\n",
    "    plt.show()"
   ]
  },
  {
   "cell_type": "code",
   "execution_count": null,
   "id": "e10c17eb",
   "metadata": {},
   "outputs": [],
   "source": [
    "#violence plot for feature vs personality\n",
    "for feature in continuous_features:\n",
    "    plt.figure(figsize=(10, 6))\n",
    "    sns.violinplot(x='Personality', y=feature, data=df, palette='viridis')\n",
    "    plt.title(f'Violin Plot of {feature} by Personality Type')\n",
    "    plt.xlabel('Personality Type')\n",
    "    plt.ylabel(feature)\n",
    "    plt.xticks(ticks=[0, 1], labels=['Introvert', 'Extrovert'])\n",
    "    plt.show()"
   ]
  },
  {
   "cell_type": "code",
   "execution_count": null,
   "id": "c8c262da",
   "metadata": {},
   "outputs": [],
   "source": [
    "# pairplot for continuous features separated by personality type and\n",
    "sns.pairplot(df, hue='Personality', vars=continuous_features, palette='viridis')\n",
    "plt.title('Pairplot of Continuous Features by Personality Type')\n",
    "plt.show()\n"
   ]
  },
  {
   "cell_type": "code",
   "execution_count": null,
   "id": "d39cf942",
   "metadata": {},
   "outputs": [],
   "source": [
    "# Correlation Heatmap\n",
    "plt.figure(figsize=(12, 8))\n",
    "correlation_matrix = df.corr()\n",
    "sns.heatmap(correlation_matrix, annot=True, fmt=\".2f\", cmap='coolwarm', square=True)\n",
    "plt.title('Correlation Heatmap')\n",
    "plt.show()"
   ]
  },
  {
   "cell_type": "code",
   "execution_count": null,
   "id": "154d8f71",
   "metadata": {},
   "outputs": [],
   "source": [
    "# stripplot for feature vs personality\n",
    "for feature in continuous_features:\n",
    "    plt.figure(figsize=(10, 6))\n",
    "    sns.stripplot(x='Personality', y=feature, data=df, palette='viridis', jitter=True)\n",
    "    plt.title(f'Strip Plot of {feature} by Personality Type')\n",
    "    plt.xlabel('Personality Type')\n",
    "    plt.ylabel(feature)\n",
    "    plt.xticks(ticks=[0, 1], labels=['Introvert', 'Extrovert'])\n",
    "    plt.show()"
   ]
  },
  {
   "cell_type": "markdown",
   "id": "541be235",
   "metadata": {},
   "source": [
    "## Model training"
   ]
  },
  {
   "cell_type": "markdown",
   "id": "2edc94d8",
   "metadata": {},
   "source": [
    "#### With RandomForestClassifier"
   ]
  },
  {
   "cell_type": "code",
   "execution_count": null,
   "id": "4e50d276",
   "metadata": {},
   "outputs": [],
   "source": [
    "# Model Training\n",
    "\n",
    "rfc_model = RandomForestClassifier(random_state=42)\n",
    "\n",
    "# Splitting the dataset into features and target variable\n",
    "X = df.drop('Personality', axis=1)\n",
    "y = df['Personality']\n",
    "# Splitting the dataset into training and testing sets\n",
    "X_train, X_test, y_train, y_test = train_test_split(X, y, test_size=0.2, random_state=42)\n"
   ]
  },
  {
   "cell_type": "code",
   "execution_count": null,
   "id": "eeb7bfa1",
   "metadata": {},
   "outputs": [],
   "source": [
    "rfc_model.fit(X_train, y_train)\n",
    "# Making predictions on the test set\n",
    "y_pred_rfc = rfc_model.predict(X_test)\n",
    "# Evaluating the model\n",
    "accuracy = accuracy_score(y_test, y_pred_rfc)\n",
    "print(f\"Random Forest Classifier Accuracy: {accuracy:.2f}\")\n",
    "# Displaying the confusion matrix\n",
    "conf_matrix = confusion_matrix(y_test, y_pred_rfc)\n",
    "plt.figure(figsize=(8, 6))\n",
    "sns.heatmap(conf_matrix, annot=True, fmt='d', cmap='Blues', xticklabels=['Introvert', 'Extrovert'], yticklabels=['Introvert', 'Extrovert'])\n",
    "plt.title('Confusion Matrix')\n",
    "plt.xlabel('Predicted')\n",
    "plt.ylabel('Actual')\n",
    "plt.show()"
   ]
  },
  {
   "cell_type": "code",
   "execution_count": null,
   "id": "0a8969d8",
   "metadata": {},
   "outputs": [],
   "source": [
    "# Model Evaluation\n",
    "y_pred = rfc_model.predict(X_test)\n",
    "print(confusion_matrix(y_test, y_pred_rfc))\n",
    "print('')\n",
    "print(classification_report(y_test, y_pred_rfc))"
   ]
  },
  {
   "cell_type": "code",
   "execution_count": null,
   "id": "c97172b8",
   "metadata": {},
   "outputs": [],
   "source": [
    "# cross validation\n",
    "from sklearn.model_selection import cross_val_score\n",
    "cross_val_scores = cross_val_score(rfc_model, X, y, cv=5)\n",
    "print(f\"Cross-validation scores: {cross_val_scores}\")\n",
    "print(f\"Mean cross-validation score: {np.mean(cross_val_scores):.2f}\")\n"
   ]
  },
  {
   "cell_type": "markdown",
   "id": "0502e537",
   "metadata": {},
   "source": [
    "#### With Xgboost Model"
   ]
  },
  {
   "cell_type": "code",
   "execution_count": null,
   "id": "58abb85f",
   "metadata": {},
   "outputs": [],
   "source": [
    "xgb_model = XGBClassifier(use_label_encoder=False, eval_metric='logloss')\n",
    "# Fitting the model\n",
    "xgb_model.fit(X_train, y_train)\n",
    "# Making predictions on the test set\n",
    "y_pred_xgb = xgb_model.predict(X_test)\n",
    "\n",
    "# Evaluating the model\n",
    "accuracy_xgb = accuracy_score(y_test, y_pred_xgb)\n",
    "print(f\"XGBoost Classifier Accuracy: {accuracy_xgb:.2f}\")\n",
    "# Displaying the confusion matrix\n",
    "conf_matrix_xgb = confusion_matrix(y_test, y_pred_xgb)\n",
    "plt.figure(figsize=(8, 6))\n",
    "sns.heatmap(conf_matrix_xgb, annot=True, fmt='d', cmap='Blues', xticklabels=['Introvert', 'Extrovert'], yticklabels=['Introvert', 'Extrovert'])\n",
    "plt.title('Confusion Matrix for XGBoost')\n",
    "plt.xlabel('Predicted')\n",
    "plt.ylabel('Actual')\n",
    "plt.show()"
   ]
  },
  {
   "cell_type": "code",
   "execution_count": null,
   "id": "1bd5f454",
   "metadata": {},
   "outputs": [],
   "source": [
    "# model evaluation\n",
    "print(confusion_matrix(y_test, y_pred_xgb))\n",
    "print('')\n",
    "print(classification_report(y_test, y_pred_xgb))\n"
   ]
  },
  {
   "cell_type": "code",
   "execution_count": null,
   "id": "e38e337b",
   "metadata": {},
   "outputs": [],
   "source": [
    "# cross validation for xgboost\n",
    "from sklearn.model_selection import cross_val_score\n",
    "cross_val_scores_xgb = cross_val_score(xgb_model, X, y, cv=5)\n",
    "print(f\"Cross-validation scores for XGBoost: {cross_val_scores_xgb}\")\n",
    "print(f\"Mean cross-validation score for XGBoost: {np.mean(cross_val_scores_xgb):.2f}\")\n"
   ]
  },
  {
   "cell_type": "code",
   "execution_count": null,
   "id": "3a4194bd",
   "metadata": {},
   "outputs": [],
   "source": [
    "# Sample test data for prediction\n",
    "sample_data = [9.0,1,0.0,0.0,1,0.0,0.0]\n",
    "sample_data2 = [1.0,0,6.0,7.0,0,14.0,9.0]\n",
    "# Convert sample data to DataFrame\n",
    "sample_df = pd.DataFrame([sample_data], columns=X.columns)\n",
    "# Predicting using Random Forest Classifier\n",
    "predicted_personality_rfc = rfc_model.predict(sample_df)\n",
    "# Predicting using XGBoost Classifier\n",
    "predicted_personality_xgb = xgb_model.predict(sample_df)\n",
    "# Displaying the predicted personality types\n",
    "print(f\"Predicted Personality (Random Forest): {'Introvert' if predicted_personality_rfc[0] == 0 else 'Extrovert'}\")\n",
    "print(f\"Predicted Personality (XGBoost): {'Introvert' if predicted_personality_xgb[0] == 0 else 'Extrovert'}\")\n"
   ]
  },
  {
   "cell_type": "code",
   "execution_count": null,
   "id": "062cef9b",
   "metadata": {},
   "outputs": [],
   "source": [
    "sample_df2 = pd.DataFrame([sample_data2], columns=X.columns)\n",
    "# Predicting using Random Forest Classifier\n",
    "predicted_personality_rfc2 = rfc_model.predict(sample_df2)\n",
    "# Predicting using XGBoost Classifier\n",
    "predicted_personality_xgb2 = xgb_model.predict(sample_df2)\n",
    "# Displaying the predicted personality types for second sample\n",
    "print(f\"Predicted Personality for second sample (Random Forest): {'Introvert' if predicted_personality_rfc2[0] == 0 else 'Extrovert'}\")\n",
    "print(f\"Predicted Personality for second sample (XGBoost): {'Introvert' if predicted_personality_xgb2[0] == 0 else 'Extrovert'}\")\n"
   ]
  },
  {
   "cell_type": "markdown",
   "id": "1ded6831",
   "metadata": {},
   "source": [
    "## Saving the Model\n"
   ]
  },
  {
   "cell_type": "code",
   "execution_count": null,
   "id": "1070f53d",
   "metadata": {},
   "outputs": [],
   "source": [
    "# save the 2 tained models\n",
    "joblib.dump(rfc_model, 'random_forest_model.pkl')\n",
    "joblib.dump(xgb_model, 'xgboost_model.pkl')"
   ]
  }
 ],
 "metadata": {
  "kernelspec": {
   "display_name": ".venv",
   "language": "python",
   "name": "python3"
  },
  "language_info": {
   "codemirror_mode": {
    "name": "ipython",
    "version": 3
   },
   "file_extension": ".py",
   "mimetype": "text/x-python",
   "name": "python",
   "nbconvert_exporter": "python",
   "pygments_lexer": "ipython3",
   "version": "3.12.4"
  }
 },
 "nbformat": 4,
 "nbformat_minor": 5
}
